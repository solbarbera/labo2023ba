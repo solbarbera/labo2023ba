{
 "cells": [
  {
   "attachments": {},
   "cell_type": "markdown",
   "metadata": {},
   "source": [
    "# Zero to Hero"
   ]
  },
  {
   "attachments": {},
   "cell_type": "markdown",
   "metadata": {},
   "source": [
    "## 1.09 Dividir en Training y Testing\n",
    "## version libreria caret"
   ]
  },
  {
   "attachments": {},
   "cell_type": "markdown",
   "metadata": {},
   "source": [
    "El objetivo es hacer una division del dataset en training/testing que sea estratificada en la clase\n",
    "<br>\n",
    "https://es.wikipedia.org/wiki/Muestreo_estratificado"
   ]
  },
  {
   "cell_type": "code",
   "execution_count": 1,
   "metadata": {
    "tags": [],
    "vscode": {
     "languageId": "r"
    }
   },
   "outputs": [
    {
     "data": {
      "text/html": [
       "<table class=\"dataframe\">\n",
       "<caption>A matrix: 2 × 6 of type dbl</caption>\n",
       "<thead>\n",
       "\t<tr><th></th><th scope=col>used</th><th scope=col>(Mb)</th><th scope=col>gc trigger</th><th scope=col>(Mb)</th><th scope=col>max used</th><th scope=col>(Mb)</th></tr>\n",
       "</thead>\n",
       "<tbody>\n",
       "\t<tr><th scope=row>Ncells</th><td> 631962</td><td>33.8</td><td>1412198</td><td>75.5</td><td>1005844</td><td>53.8</td></tr>\n",
       "\t<tr><th scope=row>Vcells</th><td>1170552</td><td> 9.0</td><td>8388608</td><td>64.0</td><td>1815598</td><td>13.9</td></tr>\n",
       "</tbody>\n",
       "</table>\n"
      ],
      "text/latex": [
       "A matrix: 2 × 6 of type dbl\n",
       "\\begin{tabular}{r|llllll}\n",
       "  & used & (Mb) & gc trigger & (Mb) & max used & (Mb)\\\\\n",
       "\\hline\n",
       "\tNcells &  631962 & 33.8 & 1412198 & 75.5 & 1005844 & 53.8\\\\\n",
       "\tVcells & 1170552 &  9.0 & 8388608 & 64.0 & 1815598 & 13.9\\\\\n",
       "\\end{tabular}\n"
      ],
      "text/markdown": [
       "\n",
       "A matrix: 2 × 6 of type dbl\n",
       "\n",
       "| <!--/--> | used | (Mb) | gc trigger | (Mb) | max used | (Mb) |\n",
       "|---|---|---|---|---|---|---|\n",
       "| Ncells |  631962 | 33.8 | 1412198 | 75.5 | 1005844 | 53.8 |\n",
       "| Vcells | 1170552 |  9.0 | 8388608 | 64.0 | 1815598 | 13.9 |\n",
       "\n"
      ],
      "text/plain": [
       "       used    (Mb) gc trigger (Mb) max used (Mb)\n",
       "Ncells  631962 33.8 1412198    75.5 1005844  53.8\n",
       "Vcells 1170552  9.0 8388608    64.0 1815598  13.9"
      ]
     },
     "metadata": {},
     "output_type": "display_data"
    }
   ],
   "source": [
    "rm(list = ls())\n",
    "gc()\n",
    "\n",
    "library(\"data.table\") # cargo la libreria  data.table\n",
    "library(\"rpart\") # cargo la libreria  rpart\n",
    "library(\"rpart.plot\")\n",
    "\n",
    "options(repr.plot.width = 20, repr.plot.height = 10)\n",
    "setwd(\"~/buckets/b1/\")\n"
   ]
  },
  {
   "cell_type": "code",
   "execution_count": 2,
   "metadata": {
    "tags": [],
    "vscode": {
     "languageId": "r"
    }
   },
   "outputs": [],
   "source": [
    "dataset <- fread(\"./datasets/dataset_pequeno.csv\") # cargo el dataset #cargo el dataset\n",
    "djulio <- dataset[foto_mes == 202107]\n"
   ]
  },
  {
   "cell_type": "code",
   "execution_count": 3,
   "metadata": {
    "tags": [],
    "vscode": {
     "languageId": "r"
    }
   },
   "outputs": [
    {
     "name": "stderr",
     "output_type": "stream",
     "text": [
      "Loading required package: ggplot2\n",
      "\n",
      "Loading required package: lattice\n",
      "\n"
     ]
    }
   ],
   "source": [
    "library(\"caret\")\n"
   ]
  },
  {
   "attachments": {},
   "cell_type": "markdown",
   "metadata": {},
   "source": [
    "https://www.rdocumentation.org/packages/caret/versions/6.0-88/topics/createDataPartition\n",
    "<br>\n",
    "la funcion  **createDataPartition** devolverá un vector de posiciones, las que cumplen con la particion indicada\n",
    "<br>\n",
    "*p= 0.5* significa que queremos el 50% de los registros\n",
    "<br>\n",
    "*dataset$clase_ternaria*   es el vector con la clase ternaria, que es por donde se estratificará\n",
    "<br>"
   ]
  },
  {
   "cell_type": "code",
   "execution_count": 4,
   "metadata": {
    "tags": [],
    "vscode": {
     "languageId": "r"
    }
   },
   "outputs": [],
   "source": [
    "train_rows <- createDataPartition(djulio$clase_ternaria, p = 0.50, list = FALSE)\n"
   ]
  },
  {
   "attachments": {},
   "cell_type": "markdown",
   "metadata": {},
   "source": [
    "veamos que ha quedado en  los primeros registros del vector **train_rows**"
   ]
  },
  {
   "cell_type": "code",
   "execution_count": 5,
   "metadata": {
    "tags": [],
    "vscode": {
     "languageId": "r"
    }
   },
   "outputs": [
    {
     "data": {
      "text/html": [
       "<table class=\"dataframe\">\n",
       "<caption>A matrix: 6 × 1 of type int</caption>\n",
       "<thead>\n",
       "\t<tr><th scope=col>Resample1</th></tr>\n",
       "</thead>\n",
       "<tbody>\n",
       "\t<tr><td>3</td></tr>\n",
       "\t<tr><td>4</td></tr>\n",
       "\t<tr><td>5</td></tr>\n",
       "\t<tr><td>7</td></tr>\n",
       "\t<tr><td>8</td></tr>\n",
       "\t<tr><td>9</td></tr>\n",
       "</tbody>\n",
       "</table>\n"
      ],
      "text/latex": [
       "A matrix: 6 × 1 of type int\n",
       "\\begin{tabular}{l}\n",
       " Resample1\\\\\n",
       "\\hline\n",
       "\t 3\\\\\n",
       "\t 4\\\\\n",
       "\t 5\\\\\n",
       "\t 7\\\\\n",
       "\t 8\\\\\n",
       "\t 9\\\\\n",
       "\\end{tabular}\n"
      ],
      "text/markdown": [
       "\n",
       "A matrix: 6 × 1 of type int\n",
       "\n",
       "| Resample1 |\n",
       "|---|\n",
       "| 3 |\n",
       "| 4 |\n",
       "| 5 |\n",
       "| 7 |\n",
       "| 8 |\n",
       "| 9 |\n",
       "\n"
      ],
      "text/plain": [
       "     Resample1\n",
       "[1,] 3        \n",
       "[2,] 4        \n",
       "[3,] 5        \n",
       "[4,] 7        \n",
       "[5,] 8        \n",
       "[6,] 9        "
      ]
     },
     "metadata": {},
     "output_type": "display_data"
    }
   ],
   "source": [
    "head(train_rows)\n"
   ]
  },
  {
   "attachments": {},
   "cell_type": "markdown",
   "metadata": {},
   "source": [
    "Aqui ya vemos que la particion tiene un suconjunto de los registros"
   ]
  },
  {
   "attachments": {},
   "cell_type": "markdown",
   "metadata": {},
   "source": [
    "ahora creamos los datasets de training y testing"
   ]
  },
  {
   "cell_type": "code",
   "execution_count": 6,
   "metadata": {
    "tags": [],
    "vscode": {
     "languageId": "r"
    }
   },
   "outputs": [],
   "source": [
    "dtrain <- djulio[train_rows]\n"
   ]
  },
  {
   "attachments": {},
   "cell_type": "markdown",
   "metadata": {},
   "source": [
    "-train_rows  significa el complemento  (no confundir con numeros negativos)"
   ]
  },
  {
   "cell_type": "code",
   "execution_count": 7,
   "metadata": {
    "tags": [],
    "vscode": {
     "languageId": "r"
    }
   },
   "outputs": [],
   "source": [
    "dtest <- djulio[-train_rows]\n"
   ]
  },
  {
   "attachments": {},
   "cell_type": "markdown",
   "metadata": {},
   "source": [
    "Compruebo la division"
   ]
  },
  {
   "cell_type": "code",
   "execution_count": 8,
   "metadata": {
    "tags": [],
    "vscode": {
     "languageId": "r"
    }
   },
   "outputs": [
    {
     "data": {
      "text/html": [
       "82341"
      ],
      "text/latex": [
       "82341"
      ],
      "text/markdown": [
       "82341"
      ],
      "text/plain": [
       "[1] 82341"
      ]
     },
     "metadata": {},
     "output_type": "display_data"
    },
    {
     "data": {
      "text/html": [
       "82341"
      ],
      "text/latex": [
       "82341"
      ],
      "text/markdown": [
       "82341"
      ],
      "text/plain": [
       "[1] 82341"
      ]
     },
     "metadata": {},
     "output_type": "display_data"
    },
    {
     "data": {
      "text/html": [
       "164682"
      ],
      "text/latex": [
       "164682"
      ],
      "text/markdown": [
       "164682"
      ],
      "text/plain": [
       "[1] 164682"
      ]
     },
     "metadata": {},
     "output_type": "display_data"
    },
    {
     "data": {
      "text/html": [
       "164682"
      ],
      "text/latex": [
       "164682"
      ],
      "text/markdown": [
       "164682"
      ],
      "text/plain": [
       "[1] 164682"
      ]
     },
     "metadata": {},
     "output_type": "display_data"
    }
   ],
   "source": [
    "nrow(dtrain)\n",
    "nrow(dtest)\n",
    "nrow(dtrain) + nrow(dtest)\n",
    "nrow(djulio)\n"
   ]
  },
  {
   "attachments": {},
   "cell_type": "markdown",
   "metadata": {},
   "source": [
    "Compruebo que la particion es estratificada"
   ]
  },
  {
   "cell_type": "code",
   "execution_count": 9,
   "metadata": {
    "tags": [],
    "vscode": {
     "languageId": "r"
    }
   },
   "outputs": [
    {
     "data": {
      "text/html": [
       "<table class=\"dataframe\">\n",
       "<caption>A data.table: 3 × 2</caption>\n",
       "<thead>\n",
       "\t<tr><th scope=col>clase_ternaria</th><th scope=col>N</th></tr>\n",
       "\t<tr><th scope=col>&lt;chr&gt;</th><th scope=col>&lt;int&gt;</th></tr>\n",
       "</thead>\n",
       "<tbody>\n",
       "\t<tr><td>CONTINUA</td><td>162336</td></tr>\n",
       "\t<tr><td>BAJA+1  </td><td>  1078</td></tr>\n",
       "\t<tr><td>BAJA+2  </td><td>  1268</td></tr>\n",
       "</tbody>\n",
       "</table>\n"
      ],
      "text/latex": [
       "A data.table: 3 × 2\n",
       "\\begin{tabular}{ll}\n",
       " clase\\_ternaria & N\\\\\n",
       " <chr> & <int>\\\\\n",
       "\\hline\n",
       "\t CONTINUA & 162336\\\\\n",
       "\t BAJA+1   &   1078\\\\\n",
       "\t BAJA+2   &   1268\\\\\n",
       "\\end{tabular}\n"
      ],
      "text/markdown": [
       "\n",
       "A data.table: 3 × 2\n",
       "\n",
       "| clase_ternaria &lt;chr&gt; | N &lt;int&gt; |\n",
       "|---|---|\n",
       "| CONTINUA | 162336 |\n",
       "| BAJA+1   |   1078 |\n",
       "| BAJA+2   |   1268 |\n",
       "\n"
      ],
      "text/plain": [
       "  clase_ternaria N     \n",
       "1 CONTINUA       162336\n",
       "2 BAJA+1           1078\n",
       "3 BAJA+2           1268"
      ]
     },
     "metadata": {},
     "output_type": "display_data"
    },
    {
     "data": {
      "text/html": [
       "<table class=\"dataframe\">\n",
       "<caption>A data.table: 3 × 2</caption>\n",
       "<thead>\n",
       "\t<tr><th scope=col>clase_ternaria</th><th scope=col>N</th></tr>\n",
       "\t<tr><th scope=col>&lt;chr&gt;</th><th scope=col>&lt;int&gt;</th></tr>\n",
       "</thead>\n",
       "<tbody>\n",
       "\t<tr><td>CONTINUA</td><td>81168</td></tr>\n",
       "\t<tr><td>BAJA+2  </td><td>  634</td></tr>\n",
       "\t<tr><td>BAJA+1  </td><td>  539</td></tr>\n",
       "</tbody>\n",
       "</table>\n"
      ],
      "text/latex": [
       "A data.table: 3 × 2\n",
       "\\begin{tabular}{ll}\n",
       " clase\\_ternaria & N\\\\\n",
       " <chr> & <int>\\\\\n",
       "\\hline\n",
       "\t CONTINUA & 81168\\\\\n",
       "\t BAJA+2   &   634\\\\\n",
       "\t BAJA+1   &   539\\\\\n",
       "\\end{tabular}\n"
      ],
      "text/markdown": [
       "\n",
       "A data.table: 3 × 2\n",
       "\n",
       "| clase_ternaria &lt;chr&gt; | N &lt;int&gt; |\n",
       "|---|---|\n",
       "| CONTINUA | 81168 |\n",
       "| BAJA+2   |   634 |\n",
       "| BAJA+1   |   539 |\n",
       "\n"
      ],
      "text/plain": [
       "  clase_ternaria N    \n",
       "1 CONTINUA       81168\n",
       "2 BAJA+2           634\n",
       "3 BAJA+1           539"
      ]
     },
     "metadata": {},
     "output_type": "display_data"
    },
    {
     "data": {
      "text/html": [
       "<table class=\"dataframe\">\n",
       "<caption>A data.table: 3 × 2</caption>\n",
       "<thead>\n",
       "\t<tr><th scope=col>clase_ternaria</th><th scope=col>N</th></tr>\n",
       "\t<tr><th scope=col>&lt;chr&gt;</th><th scope=col>&lt;int&gt;</th></tr>\n",
       "</thead>\n",
       "<tbody>\n",
       "\t<tr><td>CONTINUA</td><td>81168</td></tr>\n",
       "\t<tr><td>BAJA+1  </td><td>  539</td></tr>\n",
       "\t<tr><td>BAJA+2  </td><td>  634</td></tr>\n",
       "</tbody>\n",
       "</table>\n"
      ],
      "text/latex": [
       "A data.table: 3 × 2\n",
       "\\begin{tabular}{ll}\n",
       " clase\\_ternaria & N\\\\\n",
       " <chr> & <int>\\\\\n",
       "\\hline\n",
       "\t CONTINUA & 81168\\\\\n",
       "\t BAJA+1   &   539\\\\\n",
       "\t BAJA+2   &   634\\\\\n",
       "\\end{tabular}\n"
      ],
      "text/markdown": [
       "\n",
       "A data.table: 3 × 2\n",
       "\n",
       "| clase_ternaria &lt;chr&gt; | N &lt;int&gt; |\n",
       "|---|---|\n",
       "| CONTINUA | 81168 |\n",
       "| BAJA+1   |   539 |\n",
       "| BAJA+2   |   634 |\n",
       "\n"
      ],
      "text/plain": [
       "  clase_ternaria N    \n",
       "1 CONTINUA       81168\n",
       "2 BAJA+1           539\n",
       "3 BAJA+2           634"
      ]
     },
     "metadata": {},
     "output_type": "display_data"
    }
   ],
   "source": [
    "djulio[, .N, clase_ternaria]\n",
    "dtrain[, .N, clase_ternaria]\n",
    "dtest[, .N, clase_ternaria]\n"
   ]
  },
  {
   "attachments": {},
   "cell_type": "markdown",
   "metadata": {},
   "source": [
    "La division se ha construido en forma perfectamente estratificada !"
   ]
  }
 ],
 "metadata": {
  "kernelspec": {
   "display_name": "R",
   "language": "R",
   "name": "ir"
  },
  "language_info": {
   "codemirror_mode": "r",
   "file_extension": ".r",
   "mimetype": "text/x-r-source",
   "name": "R",
   "pygments_lexer": "r",
   "version": "4.3.1"
  }
 },
 "nbformat": 4,
 "nbformat_minor": 4
}
