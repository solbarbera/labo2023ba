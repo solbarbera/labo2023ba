{
 "cells": [
  {
   "attachments": {},
   "cell_type": "markdown",
   "metadata": {},
   "source": [
    "# Zero to Hero"
   ]
  },
  {
   "attachments": {},
   "cell_type": "markdown",
   "metadata": {},
   "source": [
    "## 1.07 Aplicando el arbol"
   ]
  },
  {
   "attachments": {},
   "cell_type": "markdown",
   "metadata": {},
   "source": [
    "Se aplicará el modelo generado por rpart a los datos nuevos y se genera la salida para Kaggle"
   ]
  },
  {
   "cell_type": "code",
   "execution_count": 1,
   "metadata": {
    "tags": [],
    "vscode": {
     "languageId": "r"
    }
   },
   "outputs": [
    {
     "data": {
      "text/html": [
       "<table class=\"dataframe\">\n",
       "<caption>A matrix: 2 × 6 of type dbl</caption>\n",
       "<thead>\n",
       "\t<tr><th></th><th scope=col>used</th><th scope=col>(Mb)</th><th scope=col>gc trigger</th><th scope=col>(Mb)</th><th scope=col>max used</th><th scope=col>(Mb)</th></tr>\n",
       "</thead>\n",
       "<tbody>\n",
       "\t<tr><th scope=row>Ncells</th><td> 631962</td><td>33.8</td><td>1412178</td><td>75.5</td><td>1005854</td><td>53.8</td></tr>\n",
       "\t<tr><th scope=row>Vcells</th><td>1170552</td><td> 9.0</td><td>8388608</td><td>64.0</td><td>1815598</td><td>13.9</td></tr>\n",
       "</tbody>\n",
       "</table>\n"
      ],
      "text/latex": [
       "A matrix: 2 × 6 of type dbl\n",
       "\\begin{tabular}{r|llllll}\n",
       "  & used & (Mb) & gc trigger & (Mb) & max used & (Mb)\\\\\n",
       "\\hline\n",
       "\tNcells &  631962 & 33.8 & 1412178 & 75.5 & 1005854 & 53.8\\\\\n",
       "\tVcells & 1170552 &  9.0 & 8388608 & 64.0 & 1815598 & 13.9\\\\\n",
       "\\end{tabular}\n"
      ],
      "text/markdown": [
       "\n",
       "A matrix: 2 × 6 of type dbl\n",
       "\n",
       "| <!--/--> | used | (Mb) | gc trigger | (Mb) | max used | (Mb) |\n",
       "|---|---|---|---|---|---|---|\n",
       "| Ncells |  631962 | 33.8 | 1412178 | 75.5 | 1005854 | 53.8 |\n",
       "| Vcells | 1170552 |  9.0 | 8388608 | 64.0 | 1815598 | 13.9 |\n",
       "\n"
      ],
      "text/plain": [
       "       used    (Mb) gc trigger (Mb) max used (Mb)\n",
       "Ncells  631962 33.8 1412178    75.5 1005854  53.8\n",
       "Vcells 1170552  9.0 8388608    64.0 1815598  13.9"
      ]
     },
     "metadata": {},
     "output_type": "display_data"
    }
   ],
   "source": [
    "rm(list = ls())\n",
    "gc()\n",
    "\n",
    "library(\"data.table\") # cargo la libreria  data.table\n",
    "library(\"rpart\") # cargo la libreria  rpart\n",
    "library(\"rpart.plot\")\n",
    "\n",
    "options(repr.plot.width = 20, repr.plot.height = 10)\n",
    "setwd(\"~/buckets/b1/\")\n"
   ]
  },
  {
   "cell_type": "code",
   "execution_count": 2,
   "metadata": {
    "tags": [],
    "vscode": {
     "languageId": "r"
    }
   },
   "outputs": [],
   "source": [
    "dataset <- fread(\"./datasets/dataset_pequeno.csv\") # cargo el dataset #cargo el dataset\n"
   ]
  },
  {
   "cell_type": "code",
   "execution_count": 3,
   "metadata": {
    "tags": [],
    "vscode": {
     "languageId": "r"
    }
   },
   "outputs": [],
   "source": [
    "dtrain <- dataset[foto_mes == 202107]\n",
    "dapply <- dataset[foto_mes == 202109]\n"
   ]
  },
  {
   "cell_type": "code",
   "execution_count": 4,
   "metadata": {
    "tags": [],
    "vscode": {
     "languageId": "r"
    }
   },
   "outputs": [],
   "source": [
    "# genero el modelo\n",
    "modelo <- rpart::rpart(\n",
    "    formula = \"clase_ternaria ~ .\",\n",
    "    data = dtrain,\n",
    "    xval = 0,\n",
    "    cp = -1,\n",
    "    maxdepth = 2\n",
    ")\n"
   ]
  },
  {
   "attachments": {},
   "cell_type": "markdown",
   "metadata": {},
   "source": [
    "Aplico el modelo a los datos dapply  pidiendo que me devuelva probabildades"
   ]
  },
  {
   "cell_type": "code",
   "execution_count": 5,
   "metadata": {
    "tags": [],
    "vscode": {
     "languageId": "r"
    }
   },
   "outputs": [],
   "source": [
    "prediccion <- predict(modelo, dapply, type = \"prob\")\n"
   ]
  },
  {
   "attachments": {},
   "cell_type": "markdown",
   "metadata": {},
   "source": [
    "Analizo que queda en prediccion"
   ]
  },
  {
   "cell_type": "code",
   "execution_count": 6,
   "metadata": {
    "tags": [],
    "vscode": {
     "languageId": "r"
    }
   },
   "outputs": [
    {
     "data": {
      "text/html": [
       "<table class=\"dataframe\">\n",
       "<caption>A matrix: 6 × 3 of type dbl</caption>\n",
       "<thead>\n",
       "\t<tr><th></th><th scope=col>BAJA+1</th><th scope=col>BAJA+2</th><th scope=col>CONTINUA</th></tr>\n",
       "</thead>\n",
       "<tbody>\n",
       "\t<tr><th scope=row>1</th><td>0.002285635</td><td>0.003102923</td><td>0.9946114</td></tr>\n",
       "\t<tr><th scope=row>2</th><td>0.002285635</td><td>0.003102923</td><td>0.9946114</td></tr>\n",
       "\t<tr><th scope=row>3</th><td>0.034907598</td><td>0.030458590</td><td>0.9346338</td></tr>\n",
       "\t<tr><th scope=row>4</th><td>0.002285635</td><td>0.003102923</td><td>0.9946114</td></tr>\n",
       "\t<tr><th scope=row>5</th><td>0.002285635</td><td>0.003102923</td><td>0.9946114</td></tr>\n",
       "\t<tr><th scope=row>6</th><td>0.002285635</td><td>0.003102923</td><td>0.9946114</td></tr>\n",
       "</tbody>\n",
       "</table>\n"
      ],
      "text/latex": [
       "A matrix: 6 × 3 of type dbl\n",
       "\\begin{tabular}{r|lll}\n",
       "  & BAJA+1 & BAJA+2 & CONTINUA\\\\\n",
       "\\hline\n",
       "\t1 & 0.002285635 & 0.003102923 & 0.9946114\\\\\n",
       "\t2 & 0.002285635 & 0.003102923 & 0.9946114\\\\\n",
       "\t3 & 0.034907598 & 0.030458590 & 0.9346338\\\\\n",
       "\t4 & 0.002285635 & 0.003102923 & 0.9946114\\\\\n",
       "\t5 & 0.002285635 & 0.003102923 & 0.9946114\\\\\n",
       "\t6 & 0.002285635 & 0.003102923 & 0.9946114\\\\\n",
       "\\end{tabular}\n"
      ],
      "text/markdown": [
       "\n",
       "A matrix: 6 × 3 of type dbl\n",
       "\n",
       "| <!--/--> | BAJA+1 | BAJA+2 | CONTINUA |\n",
       "|---|---|---|---|\n",
       "| 1 | 0.002285635 | 0.003102923 | 0.9946114 |\n",
       "| 2 | 0.002285635 | 0.003102923 | 0.9946114 |\n",
       "| 3 | 0.034907598 | 0.030458590 | 0.9346338 |\n",
       "| 4 | 0.002285635 | 0.003102923 | 0.9946114 |\n",
       "| 5 | 0.002285635 | 0.003102923 | 0.9946114 |\n",
       "| 6 | 0.002285635 | 0.003102923 | 0.9946114 |\n",
       "\n"
      ],
      "text/plain": [
       "  BAJA+1      BAJA+2      CONTINUA \n",
       "1 0.002285635 0.003102923 0.9946114\n",
       "2 0.002285635 0.003102923 0.9946114\n",
       "3 0.034907598 0.030458590 0.9346338\n",
       "4 0.002285635 0.003102923 0.9946114\n",
       "5 0.002285635 0.003102923 0.9946114\n",
       "6 0.002285635 0.003102923 0.9946114"
      ]
     },
     "metadata": {},
     "output_type": "display_data"
    }
   ],
   "source": [
    "head(prediccion)\n"
   ]
  },
  {
   "attachments": {},
   "cell_type": "markdown",
   "metadata": {},
   "source": [
    "Prediccion es una matriz; me interesa la columna \"BAJA+2\"  que es la probabilidad que modelo asigna a cada registro de dapply"
   ]
  },
  {
   "cell_type": "code",
   "execution_count": 7,
   "metadata": {
    "tags": [],
    "vscode": {
     "languageId": "r"
    }
   },
   "outputs": [],
   "source": [
    "prob_baja2 <- prediccion[, \"BAJA+2\"]\n"
   ]
  },
  {
   "cell_type": "code",
   "execution_count": 8,
   "metadata": {
    "tags": [],
    "vscode": {
     "languageId": "r"
    }
   },
   "outputs": [
    {
     "data": {
      "text/html": [
       "<style>\n",
       ".dl-inline {width: auto; margin:0; padding: 0}\n",
       ".dl-inline>dt, .dl-inline>dd {float: none; width: auto; display: inline-block}\n",
       ".dl-inline>dt::after {content: \":\\0020\"; padding-right: .5ex}\n",
       ".dl-inline>dt:not(:first-of-type) {padding-left: .5ex}\n",
       "</style><dl class=dl-inline><dt>1</dt><dd>0.00310292284249896</dd><dt>2</dt><dd>0.00310292284249896</dd><dt>3</dt><dd>0.0304585900068446</dd><dt>4</dt><dd>0.00310292284249896</dd><dt>5</dt><dd>0.00310292284249896</dd><dt>6</dt><dd>0.00310292284249896</dd></dl>\n"
      ],
      "text/latex": [
       "\\begin{description*}\n",
       "\\item[1] 0.00310292284249896\n",
       "\\item[2] 0.00310292284249896\n",
       "\\item[3] 0.0304585900068446\n",
       "\\item[4] 0.00310292284249896\n",
       "\\item[5] 0.00310292284249896\n",
       "\\item[6] 0.00310292284249896\n",
       "\\end{description*}\n"
      ],
      "text/markdown": [
       "1\n",
       ":   0.003102922842498962\n",
       ":   0.003102922842498963\n",
       ":   0.03045859000684464\n",
       ":   0.003102922842498965\n",
       ":   0.003102922842498966\n",
       ":   0.00310292284249896\n",
       "\n"
      ],
      "text/plain": [
       "          1           2           3           4           5           6 \n",
       "0.003102923 0.003102923 0.030458590 0.003102923 0.003102923 0.003102923 "
      ]
     },
     "metadata": {},
     "output_type": "display_data"
    }
   ],
   "source": [
    "head(prob_baja2)\n"
   ]
  },
  {
   "attachments": {},
   "cell_type": "markdown",
   "metadata": {},
   "source": [
    "prob_baja2 es el vector de probabilidades"
   ]
  },
  {
   "cell_type": "code",
   "execution_count": 9,
   "metadata": {
    "tags": [],
    "vscode": {
     "languageId": "r"
    }
   },
   "outputs": [
    {
     "data": {
      "text/html": [
       "165237"
      ],
      "text/latex": [
       "165237"
      ],
      "text/markdown": [
       "165237"
      ],
      "text/plain": [
       "[1] 165237"
      ]
     },
     "metadata": {},
     "output_type": "display_data"
    },
    {
     "data": {
      "text/html": [
       "165237"
      ],
      "text/latex": [
       "165237"
      ],
      "text/markdown": [
       "165237"
      ],
      "text/plain": [
       "[1] 165237"
      ]
     },
     "metadata": {},
     "output_type": "display_data"
    }
   ],
   "source": [
    "length(prob_baja2)\n",
    "nrow(dapply)\n"
   ]
  },
  {
   "attachments": {},
   "cell_type": "markdown",
   "metadata": {},
   "source": [
    "Ahora decido si envio el estimulo o no\n",
    "<br>\n",
    "si prob( BAJA+2) > 0.025  envio  el estímulo"
   ]
  },
  {
   "cell_type": "code",
   "execution_count": 10,
   "metadata": {
    "tags": [],
    "vscode": {
     "languageId": "r"
    }
   },
   "outputs": [],
   "source": [
    "Predicted <- ifelse(prob_baja2 > 0.025, 1, 0)\n"
   ]
  },
  {
   "cell_type": "code",
   "execution_count": 11,
   "metadata": {
    "tags": [],
    "vscode": {
     "languageId": "r"
    }
   },
   "outputs": [
    {
     "data": {
      "text/html": [
       "<style>\n",
       ".dl-inline {width: auto; margin:0; padding: 0}\n",
       ".dl-inline>dt, .dl-inline>dd {float: none; width: auto; display: inline-block}\n",
       ".dl-inline>dt::after {content: \":\\0020\"; padding-right: .5ex}\n",
       ".dl-inline>dt:not(:first-of-type) {padding-left: .5ex}\n",
       "</style><dl class=dl-inline><dt>1</dt><dd>0</dd><dt>2</dt><dd>0</dd><dt>3</dt><dd>1</dd><dt>4</dt><dd>0</dd><dt>5</dt><dd>0</dd><dt>6</dt><dd>0</dd></dl>\n"
      ],
      "text/latex": [
       "\\begin{description*}\n",
       "\\item[1] 0\n",
       "\\item[2] 0\n",
       "\\item[3] 1\n",
       "\\item[4] 0\n",
       "\\item[5] 0\n",
       "\\item[6] 0\n",
       "\\end{description*}\n"
      ],
      "text/markdown": [
       "1\n",
       ":   02\n",
       ":   03\n",
       ":   14\n",
       ":   05\n",
       ":   06\n",
       ":   0\n",
       "\n"
      ],
      "text/plain": [
       "1 2 3 4 5 6 \n",
       "0 0 1 0 0 0 "
      ]
     },
     "metadata": {},
     "output_type": "display_data"
    }
   ],
   "source": [
    "head(Predicted)\n"
   ]
  },
  {
   "cell_type": "code",
   "execution_count": 12,
   "metadata": {
    "tags": [],
    "vscode": {
     "languageId": "r"
    }
   },
   "outputs": [
    {
     "data": {
      "image/png": "[encoded data removed]",
      "text/plain": [
       "Plot with title “Histogram of Predicted”"
      ]
     },
     "metadata": {
      "image/png": {
       "height": 600,
       "width": 1200
      }
     },
     "output_type": "display_data"
    }
   ],
   "source": [
    "hist(Predicted)\n"
   ]
  },
  {
   "attachments": {},
   "cell_type": "markdown",
   "metadata": {},
   "source": [
    "creo una tabla con  lo que voy a enviar a Kaggle"
   ]
  },
  {
   "cell_type": "code",
   "execution_count": 13,
   "metadata": {
    "tags": [],
    "vscode": {
     "languageId": "r"
    }
   },
   "outputs": [],
   "source": [
    "entrega <- as.data.table(list(\"numero_de_cliente\" = dapply$numero_de_cliente, \"Predicted\" = Predicted))\n"
   ]
  },
  {
   "cell_type": "code",
   "execution_count": 14,
   "metadata": {
    "tags": [],
    "vscode": {
     "languageId": "r"
    }
   },
   "outputs": [
    {
     "data": {
      "text/html": [
       "<table class=\"dataframe\">\n",
       "<caption>A data.table: 6 × 2</caption>\n",
       "<thead>\n",
       "\t<tr><th scope=col>numero_de_cliente</th><th scope=col>Predicted</th></tr>\n",
       "\t<tr><th scope=col>&lt;int&gt;</th><th scope=col>&lt;dbl&gt;</th></tr>\n",
       "</thead>\n",
       "<tbody>\n",
       "\t<tr><td>31116053</td><td>0</td></tr>\n",
       "\t<tr><td>31116803</td><td>0</td></tr>\n",
       "\t<tr><td>31117730</td><td>1</td></tr>\n",
       "\t<tr><td>31117908</td><td>0</td></tr>\n",
       "\t<tr><td>31117977</td><td>0</td></tr>\n",
       "\t<tr><td>31120119</td><td>0</td></tr>\n",
       "</tbody>\n",
       "</table>\n"
      ],
      "text/latex": [
       "A data.table: 6 × 2\n",
       "\\begin{tabular}{ll}\n",
       " numero\\_de\\_cliente & Predicted\\\\\n",
       " <int> & <dbl>\\\\\n",
       "\\hline\n",
       "\t 31116053 & 0\\\\\n",
       "\t 31116803 & 0\\\\\n",
       "\t 31117730 & 1\\\\\n",
       "\t 31117908 & 0\\\\\n",
       "\t 31117977 & 0\\\\\n",
       "\t 31120119 & 0\\\\\n",
       "\\end{tabular}\n"
      ],
      "text/markdown": [
       "\n",
       "A data.table: 6 × 2\n",
       "\n",
       "| numero_de_cliente &lt;int&gt; | Predicted &lt;dbl&gt; |\n",
       "|---|---|\n",
       "| 31116053 | 0 |\n",
       "| 31116803 | 0 |\n",
       "| 31117730 | 1 |\n",
       "| 31117908 | 0 |\n",
       "| 31117977 | 0 |\n",
       "| 31120119 | 0 |\n",
       "\n"
      ],
      "text/plain": [
       "  numero_de_cliente Predicted\n",
       "1 31116053          0        \n",
       "2 31116803          0        \n",
       "3 31117730          1        \n",
       "4 31117908          0        \n",
       "5 31117977          0        \n",
       "6 31120119          0        "
      ]
     },
     "metadata": {},
     "output_type": "display_data"
    }
   ],
   "source": [
    "head(entrega)\n"
   ]
  },
  {
   "cell_type": "code",
   "execution_count": 15,
   "metadata": {
    "tags": [],
    "vscode": {
     "languageId": "r"
    }
   },
   "outputs": [
    {
     "data": {
      "text/html": [
       "<table class=\"dataframe\">\n",
       "<caption>A data.table: 2 × 2</caption>\n",
       "<thead>\n",
       "\t<tr><th scope=col>Predicted</th><th scope=col>N</th></tr>\n",
       "\t<tr><th scope=col>&lt;dbl&gt;</th><th scope=col>&lt;int&gt;</th></tr>\n",
       "</thead>\n",
       "<tbody>\n",
       "\t<tr><td>0</td><td>147829</td></tr>\n",
       "\t<tr><td>1</td><td> 17408</td></tr>\n",
       "</tbody>\n",
       "</table>\n"
      ],
      "text/latex": [
       "A data.table: 2 × 2\n",
       "\\begin{tabular}{ll}\n",
       " Predicted & N\\\\\n",
       " <dbl> & <int>\\\\\n",
       "\\hline\n",
       "\t 0 & 147829\\\\\n",
       "\t 1 &  17408\\\\\n",
       "\\end{tabular}\n"
      ],
      "text/markdown": [
       "\n",
       "A data.table: 2 × 2\n",
       "\n",
       "| Predicted &lt;dbl&gt; | N &lt;int&gt; |\n",
       "|---|---|\n",
       "| 0 | 147829 |\n",
       "| 1 |  17408 |\n",
       "\n"
      ],
      "text/plain": [
       "  Predicted N     \n",
       "1 0         147829\n",
       "2 1          17408"
      ]
     },
     "metadata": {},
     "output_type": "display_data"
    }
   ],
   "source": [
    "entrega[, .N, Predicted]\n"
   ]
  },
  {
   "attachments": {},
   "cell_type": "markdown",
   "metadata": {},
   "source": [
    "Esto significa que se enviaran 17408 estímulos"
   ]
  },
  {
   "cell_type": "code",
   "execution_count": 16,
   "metadata": {
    "tags": [],
    "vscode": {
     "languageId": "r"
    }
   },
   "outputs": [],
   "source": [
    "# genero el archivo para Kaggle\n",
    "# creo la carpeta donde va el experimento\n",
    "dir.create(\"./exp/\", showWarnings = FALSE)\n",
    "dir.create(\"./exp/ZH2017/\", showWarnings = FALSE)\n",
    "\n",
    "fwrite(entrega,\n",
    "        file = \"./exp/ZH2017/para_Kaggle_0107.csv\",\n",
    "        sep = \",\"\n",
    ")\n"
   ]
  }
 ],
 "metadata": {
  "kernelspec": {
   "display_name": "R",
   "language": "R",
   "name": "ir"
  },
  "language_info": {
   "codemirror_mode": "r",
   "file_extension": ".r",
   "mimetype": "text/x-r-source",
   "name": "R",
   "pygments_lexer": "r",
   "version": "4.3.1"
  }
 },
 "nbformat": 4,
 "nbformat_minor": 4
}
